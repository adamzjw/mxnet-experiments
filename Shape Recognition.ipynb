{
 "cells": [
  {
   "cell_type": "code",
   "execution_count": null,
   "metadata": {
    "collapsed": false
   },
   "outputs": [],
   "source": [
    "%matplotlib inline\n",
    "\n",
    "import numpy as np\n",
    "import skimage.draw as draw\n",
    "import skimage.io as io\n",
    "import mxnet as mx"
   ]
  },
  {
   "cell_type": "code",
   "execution_count": null,
   "metadata": {
    "collapsed": true
   },
   "outputs": [],
   "source": [
    "import logging\n",
    "\n",
    "# create logger with 'spam_application'\n",
    "logger = logging.getLogger('spam_application')\n",
    "logger.setLevel(logging.DEBUG)\n",
    "# create console handler with a higher log level\n",
    "ch = logging.StreamHandler()\n",
    "ch.setLevel(logging.ERROR)\n",
    "# create formatter and add it to the handlers\n",
    "formatter = logging.Formatter('%(asctime)s - %(name)s - %(levelname)s - %(message)s')\n",
    "ch.setFormatter(formatter)\n",
    "# add the handlers to the logger\n",
    "logger.addHandler(ch)"
   ]
  },
  {
   "cell_type": "code",
   "execution_count": null,
   "metadata": {
    "collapsed": true
   },
   "outputs": [],
   "source": [
    "# global parameters\n",
    "N = 100000\n",
    "Reso = 128"
   ]
  },
  {
   "cell_type": "code",
   "execution_count": null,
   "metadata": {
    "collapsed": true
   },
   "outputs": [],
   "source": [
    "def drawShape(f, *args):\n",
    "    img = np.zeros((Reso, Reso), dtype=np.uint8)\n",
    "    rr, cc = f(*args)\n",
    "    img[rr, cc] = 1\n",
    "    return img"
   ]
  },
  {
   "cell_type": "code",
   "execution_count": null,
   "metadata": {
    "collapsed": true
   },
   "outputs": [],
   "source": [
    "def drawRandomCircle():\n",
    "    r = np.random.randint(10, int(Reso*0.4))\n",
    "    x = np.random.randint(r-1, Reso-r-1)\n",
    "    y = np.random.randint(r-1, Reso-r-1)\n",
    "    return drawShape(draw.circle, x, y, r)\n",
    "\n",
    "def drawRandomRectange():\n",
    "    a = np.random.randint(20, int(Reso*0.8))\n",
    "    #left top\n",
    "    x = np.random.randint(0, (Reso-a-1))\n",
    "    y = np.random.randint(0, (Reso-a-1))\n",
    "    vertices_yaxis = np.array([y, (y+a), (y+a), y])\n",
    "    vertices_xaxis = np.array([x, x,     (x+a), (x+a)])\n",
    "    return drawShape(draw.polygon, vertices_yaxis, vertices_xaxis)"
   ]
  },
  {
   "cell_type": "code",
   "execution_count": null,
   "metadata": {
    "collapsed": false
   },
   "outputs": [],
   "source": [
    "X = np.zeros((N, 1, Reso, Reso), dtype=np.uint8)\n",
    "for i in range(N):\n",
    "    if i < N/2:\n",
    "        X[i, 0, :, :] = drawRandomCircle()\n",
    "    else:\n",
    "        X[i, 0, :, :] = drawRandomRectange()\n",
    "y = np.ones(N)\n",
    "y[:N/2] = 0"
   ]
  },
  {
   "cell_type": "code",
   "execution_count": null,
   "metadata": {
    "collapsed": false
   },
   "outputs": [],
   "source": [
    "shuffle_idx = np.arange(N)\n",
    "np.random.shuffle(shuffle_idx)\n",
    "X = X[shuffle_idx, :, :, :]\n",
    "y = y[shuffle_idx]"
   ]
  },
  {
   "cell_type": "code",
   "execution_count": null,
   "metadata": {
    "collapsed": false
   },
   "outputs": [],
   "source": [
    "trainN = int(N*0.6)\n",
    "trainIter = mx.io.NDArrayIter(X[:trainN, :, :, :], label=y[:trainN], batch_size=32, shuffle=False, last_batch_handle='pad')\n",
    "valIter = mx.io.NDArrayIter(X[trainN:, :, :, :], label=y[trainN:], batch_size=32, shuffle=False, last_batch_handle='pad')"
   ]
  },
  {
   "cell_type": "code",
   "execution_count": null,
   "metadata": {
    "collapsed": false
   },
   "outputs": [],
   "source": [
    "def get_lenet():\n",
    "    \"\"\"\n",
    "    LeCun, Yann, Leon Bottou, Yoshua Bengio, and Patrick\n",
    "    Haffner. \"Gradient-based learning applied to document recognition.\"\n",
    "    Proceedings of the IEEE (1998)\n",
    "    \"\"\"\n",
    "    data = mx.symbol.Variable('data')\n",
    "    # first conv\n",
    "    conv1 = mx.symbol.Convolution(data=data, kernel=(5,5), num_filter=20)\n",
    "    relu1 = mx.symbol.Activation(data=conv1, act_type=\"relu\")\n",
    "    pool1 = mx.symbol.Pooling(data=relu1, pool_type=\"max\",\n",
    "                              kernel=(2,2), stride=(2,2))\n",
    "    # second conv\n",
    "    conv2 = mx.symbol.Convolution(data=pool1, kernel=(5,5), num_filter=50)\n",
    "    relu2 = mx.symbol.Activation(data=conv2, act_type=\"relu\")\n",
    "    pool2 = mx.symbol.Pooling(data=relu2, pool_type=\"max\",\n",
    "                              kernel=(2,2), stride=(2,2))\n",
    "    # first fullc\n",
    "    flatten = mx.symbol.Flatten(data=pool2)\n",
    "    fc1 = mx.symbol.FullyConnected(data=flatten, num_hidden=500)\n",
    "    relu3 = mx.symbol.Activation(data=fc1, act_type=\"relu\")\n",
    "    # second fullc\n",
    "    fc2 = mx.symbol.FullyConnected(data=relu3, num_hidden=100)\n",
    "    # loss\n",
    "    lenet = mx.symbol.SoftmaxOutput(fc2, name='softmax')\n",
    "    return lenet"
   ]
  },
  {
   "cell_type": "code",
   "execution_count": null,
   "metadata": {
    "collapsed": true
   },
   "outputs": [],
   "source": [
    "cnn = get_lenet()"
   ]
  },
  {
   "cell_type": "code",
   "execution_count": null,
   "metadata": {
    "collapsed": false
   },
   "outputs": [],
   "source": [
    "model = mx.model.FeedForward(\n",
    "        ctx = mx.gpu(), symbol = cnn, num_epoch = 50,\n",
    "        learning_rate = 0.01, momentum = 0.0, wd = 0.00001)   "
   ]
  },
  {
   "cell_type": "code",
   "execution_count": null,
   "metadata": {
    "collapsed": false
   },
   "outputs": [],
   "source": [
    "model.fit(X=trainIter, eval_data=valIter, logger=logger)"
   ]
  },
  {
   "cell_type": "code",
   "execution_count": null,
   "metadata": {
    "collapsed": false,
    "scrolled": true
   },
   "outputs": [],
   "source": [
    "predY = model.predict(valIter)"
   ]
  }
 ],
 "metadata": {
  "kernelspec": {
   "display_name": "Python 2",
   "language": "python",
   "name": "python2"
  },
  "language_info": {
   "codemirror_mode": {
    "name": "ipython",
    "version": 2
   },
   "file_extension": ".py",
   "mimetype": "text/x-python",
   "name": "python",
   "nbconvert_exporter": "python",
   "pygments_lexer": "ipython2",
   "version": "2.7.6"
  }
 },
 "nbformat": 4,
 "nbformat_minor": 0
}
